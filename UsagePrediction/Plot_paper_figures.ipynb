{
 "cells": [
  {
   "cell_type": "markdown",
   "id": "reliable-testament",
   "metadata": {},
   "source": [
    "# Load packages"
   ]
  },
  {
   "cell_type": "code",
   "execution_count": 21,
   "id": "alternate-costa",
   "metadata": {},
   "outputs": [],
   "source": [
    "import warnings\n",
    "warnings.filterwarnings('ignore')"
   ]
  },
  {
   "cell_type": "code",
   "execution_count": 22,
   "id": "choice-phrase",
   "metadata": {},
   "outputs": [
    {
     "name": "stdout",
     "output_type": "stream",
     "text": [
      "tsai       : 0.2.17\n",
      "fastai     : 2.3.1\n",
      "fastcore   : 1.3.19\n",
      "torch      : 1.8.1+cu111\n"
     ]
    }
   ],
   "source": [
    "import tsai\n",
    "from tsai.all import *\n",
    "print('tsai       :', tsai.__version__)\n",
    "print('fastai     :', fastai.__version__)\n",
    "print('fastcore   :', fastcore.__version__)\n",
    "print('torch      :', torch.__version__)"
   ]
  },
  {
   "cell_type": "code",
   "execution_count": 23,
   "id": "healthy-wonder",
   "metadata": {},
   "outputs": [
    {
     "data": {
      "text/plain": [
       "'GeForce RTX 2070'"
      ]
     },
     "execution_count": 23,
     "metadata": {},
     "output_type": "execute_result"
    }
   ],
   "source": [
    "torch.cuda.get_device_name(0)"
   ]
  },
  {
   "cell_type": "code",
   "execution_count": 24,
   "id": "lasting-railway",
   "metadata": {},
   "outputs": [],
   "source": [
    "import pandas as pd\n",
    "import numpy as np\n",
    "import matplotlib.pyplot as plt\n",
    "import seaborn as sns\n",
    "import matplotlib as mpl\n",
    "from matplotlib import ticker\n",
    "from datetime import datetime, timedelta\n",
    "import statsmodels.api as sm\n",
    "from statsmodels.graphics.tsaplots import plot_acf, plot_pacf"
   ]
  },
  {
   "cell_type": "code",
   "execution_count": 25,
   "id": "documented-crime",
   "metadata": {},
   "outputs": [
    {
     "name": "stdout",
     "output_type": "stream",
     "text": [
      "3.3.2\n",
      "0.11.0\n"
     ]
    }
   ],
   "source": [
    "large = 22; med = 16; small = 12\n",
    "params = {'axes.titlesize': large,\n",
    "           'legend.fontsize': med,\n",
    "           'figure.figsize': (10, 6),\n",
    "           'axes.labelsize': med,\n",
    "           'axes.titlesize': med,\n",
    "           'xtick.labelsize': med,\n",
    "           'ytick.labelsize': med,\n",
    "           'figure.titlesize': large}\n",
    "plt.rcParams.update(params)\n",
    "plt.style.use('seaborn-whitegrid')\n",
    "sns.set_style(\"white\")\n",
    "%matplotlib inline\n",
    "\n",
    "# Version\n",
    "print(mpl.__version__)\n",
    "print(sns.__version__)"
   ]
  },
  {
   "cell_type": "code",
   "execution_count": 26,
   "id": "southern-absolute",
   "metadata": {},
   "outputs": [
    {
     "name": "stdout",
     "output_type": "stream",
     "text": [
      "0.2.5\n"
     ]
    }
   ],
   "source": [
    "import hyperopt\n",
    "print(hyperopt.__version__)\n",
    "from hyperopt import Trials, STATUS_OK, STATUS_FAIL, tpe, fmin, hp\n",
    "from hyperopt import space_eval"
   ]
  },
  {
   "cell_type": "code",
   "execution_count": 27,
   "id": "communist-artist",
   "metadata": {},
   "outputs": [],
   "source": [
    "import time\n",
    "from fastai.callback.tracker import EarlyStoppingCallback\n",
    "import gc"
   ]
  },
  {
   "cell_type": "code",
   "execution_count": 28,
   "id": "tough-chuck",
   "metadata": {},
   "outputs": [],
   "source": [
    "import pickle\n",
    "from math import sqrt\n",
    "from sklearn.metrics import mean_squared_error, mean_absolute_error, mean_absolute_error"
   ]
  },
  {
   "cell_type": "markdown",
   "id": "baking-decade",
   "metadata": {},
   "source": [
    "# Specify parameters"
   ]
  },
  {
   "cell_type": "code",
   "execution_count": 29,
   "id": "thousand-advantage",
   "metadata": {},
   "outputs": [],
   "source": [
    "file_name = \"./data/network-traffic-volume-2019-07-01.csv\"\n",
    "\n",
    "history = 15  # input historical time steps, here we use the same value with the maxlag we use for VAR\n",
    "horizon = 1  # output predicted time steps\n",
    "test_ratio = 0.2  # testing data ratio"
   ]
  },
  {
   "cell_type": "markdown",
   "id": "peripheral-blanket",
   "metadata": {},
   "source": [
    "# Load Data"
   ]
  },
  {
   "cell_type": "code",
   "execution_count": 30,
   "id": "canadian-albert",
   "metadata": {},
   "outputs": [],
   "source": [
    "df = pd.read_csv(file_name, sep=';')"
   ]
  },
  {
   "cell_type": "code",
   "execution_count": 31,
   "id": "annual-retro",
   "metadata": {},
   "outputs": [],
   "source": [
    "start = datetime(1970, 1, 1)  # Unix epoch start time\n",
    "df['datetime'] = df.clock.apply(lambda x: start + timedelta(seconds=x))"
   ]
  },
  {
   "cell_type": "code",
   "execution_count": 32,
   "id": "daily-simon",
   "metadata": {},
   "outputs": [
    {
     "data": {
      "text/html": [
       "<div>\n",
       "<style scoped>\n",
       "    .dataframe tbody tr th:only-of-type {\n",
       "        vertical-align: middle;\n",
       "    }\n",
       "\n",
       "    .dataframe tbody tr th {\n",
       "        vertical-align: top;\n",
       "    }\n",
       "\n",
       "    .dataframe thead th {\n",
       "        text-align: right;\n",
       "    }\n",
       "</style>\n",
       "<table border=\"1\" class=\"dataframe\">\n",
       "  <thead>\n",
       "    <tr style=\"text-align: right;\">\n",
       "      <th></th>\n",
       "      <th>itemid</th>\n",
       "      <th>clock</th>\n",
       "      <th>num</th>\n",
       "      <th>value_min</th>\n",
       "      <th>value_avg</th>\n",
       "      <th>value_max</th>\n",
       "      <th>datetime</th>\n",
       "    </tr>\n",
       "  </thead>\n",
       "  <tbody>\n",
       "    <tr>\n",
       "      <th>0</th>\n",
       "      <td>159138</td>\n",
       "      <td>1563192000</td>\n",
       "      <td>60</td>\n",
       "      <td>170651112</td>\n",
       "      <td>222446310</td>\n",
       "      <td>245355432</td>\n",
       "      <td>2019-07-15 12:00:00</td>\n",
       "    </tr>\n",
       "    <tr>\n",
       "      <th>1</th>\n",
       "      <td>159138</td>\n",
       "      <td>1563188400</td>\n",
       "      <td>60</td>\n",
       "      <td>92258968</td>\n",
       "      <td>156333926</td>\n",
       "      <td>245517360</td>\n",
       "      <td>2019-07-15 11:00:00</td>\n",
       "    </tr>\n",
       "    <tr>\n",
       "      <th>2</th>\n",
       "      <td>159138</td>\n",
       "      <td>1563184800</td>\n",
       "      <td>60</td>\n",
       "      <td>29854256</td>\n",
       "      <td>73581269</td>\n",
       "      <td>121096792</td>\n",
       "      <td>2019-07-15 10:00:00</td>\n",
       "    </tr>\n",
       "    <tr>\n",
       "      <th>3</th>\n",
       "      <td>159138</td>\n",
       "      <td>1563181200</td>\n",
       "      <td>60</td>\n",
       "      <td>333720</td>\n",
       "      <td>12801917</td>\n",
       "      <td>43525128</td>\n",
       "      <td>2019-07-15 09:00:00</td>\n",
       "    </tr>\n",
       "    <tr>\n",
       "      <th>4</th>\n",
       "      <td>159138</td>\n",
       "      <td>1563177600</td>\n",
       "      <td>60</td>\n",
       "      <td>183976</td>\n",
       "      <td>1146488</td>\n",
       "      <td>11797152</td>\n",
       "      <td>2019-07-15 08:00:00</td>\n",
       "    </tr>\n",
       "  </tbody>\n",
       "</table>\n",
       "</div>"
      ],
      "text/plain": [
       "   itemid       clock  num  value_min  value_avg  value_max  \\\n",
       "0  159138  1563192000   60  170651112  222446310  245355432   \n",
       "1  159138  1563188400   60   92258968  156333926  245517360   \n",
       "2  159138  1563184800   60   29854256   73581269  121096792   \n",
       "3  159138  1563181200   60     333720   12801917   43525128   \n",
       "4  159138  1563177600   60     183976    1146488   11797152   \n",
       "\n",
       "             datetime  \n",
       "0 2019-07-15 12:00:00  \n",
       "1 2019-07-15 11:00:00  \n",
       "2 2019-07-15 10:00:00  \n",
       "3 2019-07-15 09:00:00  \n",
       "4 2019-07-15 08:00:00  "
      ]
     },
     "execution_count": 32,
     "metadata": {},
     "output_type": "execute_result"
    }
   ],
   "source": [
    "df.head()"
   ]
  },
  {
   "cell_type": "markdown",
   "id": "intermediate-brunei",
   "metadata": {},
   "source": [
    "Reverse the data order:"
   ]
  },
  {
   "cell_type": "code",
   "execution_count": 33,
   "id": "biological-rover",
   "metadata": {},
   "outputs": [],
   "source": [
    "df = df.reindex(index=df.index[::-1])\n",
    "df = df.reset_index(drop=True)"
   ]
  },
  {
   "cell_type": "code",
   "execution_count": 34,
   "id": "incorporated-sensitivity",
   "metadata": {},
   "outputs": [
    {
     "data": {
      "text/html": [
       "<div>\n",
       "<style scoped>\n",
       "    .dataframe tbody tr th:only-of-type {\n",
       "        vertical-align: middle;\n",
       "    }\n",
       "\n",
       "    .dataframe tbody tr th {\n",
       "        vertical-align: top;\n",
       "    }\n",
       "\n",
       "    .dataframe thead th {\n",
       "        text-align: right;\n",
       "    }\n",
       "</style>\n",
       "<table border=\"1\" class=\"dataframe\">\n",
       "  <thead>\n",
       "    <tr style=\"text-align: right;\">\n",
       "      <th></th>\n",
       "      <th>itemid</th>\n",
       "      <th>clock</th>\n",
       "      <th>num</th>\n",
       "      <th>value_min</th>\n",
       "      <th>value_avg</th>\n",
       "      <th>value_max</th>\n",
       "      <th>datetime</th>\n",
       "    </tr>\n",
       "  </thead>\n",
       "  <tbody>\n",
       "    <tr>\n",
       "      <th>0</th>\n",
       "      <td>159138</td>\n",
       "      <td>1547647200</td>\n",
       "      <td>60</td>\n",
       "      <td>176234272</td>\n",
       "      <td>218584709</td>\n",
       "      <td>282860160</td>\n",
       "      <td>2019-01-16 14:00:00</td>\n",
       "    </tr>\n",
       "    <tr>\n",
       "      <th>1</th>\n",
       "      <td>159138</td>\n",
       "      <td>1547650800</td>\n",
       "      <td>60</td>\n",
       "      <td>175043128</td>\n",
       "      <td>239018429</td>\n",
       "      <td>302135312</td>\n",
       "      <td>2019-01-16 15:00:00</td>\n",
       "    </tr>\n",
       "    <tr>\n",
       "      <th>2</th>\n",
       "      <td>159138</td>\n",
       "      <td>1547654400</td>\n",
       "      <td>60</td>\n",
       "      <td>192060848</td>\n",
       "      <td>247729961</td>\n",
       "      <td>455722696</td>\n",
       "      <td>2019-01-16 16:00:00</td>\n",
       "    </tr>\n",
       "    <tr>\n",
       "      <th>3</th>\n",
       "      <td>159138</td>\n",
       "      <td>1547658000</td>\n",
       "      <td>60</td>\n",
       "      <td>185162976</td>\n",
       "      <td>222326142</td>\n",
       "      <td>268226440</td>\n",
       "      <td>2019-01-16 17:00:00</td>\n",
       "    </tr>\n",
       "    <tr>\n",
       "      <th>4</th>\n",
       "      <td>159138</td>\n",
       "      <td>1547661600</td>\n",
       "      <td>60</td>\n",
       "      <td>169504880</td>\n",
       "      <td>220546435</td>\n",
       "      <td>306695032</td>\n",
       "      <td>2019-01-16 18:00:00</td>\n",
       "    </tr>\n",
       "  </tbody>\n",
       "</table>\n",
       "</div>"
      ],
      "text/plain": [
       "   itemid       clock  num  value_min  value_avg  value_max  \\\n",
       "0  159138  1547647200   60  176234272  218584709  282860160   \n",
       "1  159138  1547650800   60  175043128  239018429  302135312   \n",
       "2  159138  1547654400   60  192060848  247729961  455722696   \n",
       "3  159138  1547658000   60  185162976  222326142  268226440   \n",
       "4  159138  1547661600   60  169504880  220546435  306695032   \n",
       "\n",
       "             datetime  \n",
       "0 2019-01-16 14:00:00  \n",
       "1 2019-01-16 15:00:00  \n",
       "2 2019-01-16 16:00:00  \n",
       "3 2019-01-16 17:00:00  \n",
       "4 2019-01-16 18:00:00  "
      ]
     },
     "execution_count": 34,
     "metadata": {},
     "output_type": "execute_result"
    }
   ],
   "source": [
    "df.head()"
   ]
  },
  {
   "cell_type": "code",
   "execution_count": 35,
   "id": "perfect-weather",
   "metadata": {},
   "outputs": [],
   "source": [
    "# add a datetimeindex\n",
    "dates = pd.DatetimeIndex(df['datetime'])\n",
    "df = df.set_index(dates).asfreq('H')  # one hour as the original sampling time frequency"
   ]
  },
  {
   "cell_type": "code",
   "execution_count": 36,
   "id": "alpha-potato",
   "metadata": {},
   "outputs": [
    {
     "data": {
      "text/html": [
       "<div>\n",
       "<style scoped>\n",
       "    .dataframe tbody tr th:only-of-type {\n",
       "        vertical-align: middle;\n",
       "    }\n",
       "\n",
       "    .dataframe tbody tr th {\n",
       "        vertical-align: top;\n",
       "    }\n",
       "\n",
       "    .dataframe thead th {\n",
       "        text-align: right;\n",
       "    }\n",
       "</style>\n",
       "<table border=\"1\" class=\"dataframe\">\n",
       "  <thead>\n",
       "    <tr style=\"text-align: right;\">\n",
       "      <th></th>\n",
       "      <th>itemid</th>\n",
       "      <th>clock</th>\n",
       "      <th>num</th>\n",
       "      <th>value_min</th>\n",
       "      <th>value_avg</th>\n",
       "      <th>value_max</th>\n",
       "      <th>datetime</th>\n",
       "    </tr>\n",
       "    <tr>\n",
       "      <th>datetime</th>\n",
       "      <th></th>\n",
       "      <th></th>\n",
       "      <th></th>\n",
       "      <th></th>\n",
       "      <th></th>\n",
       "      <th></th>\n",
       "      <th></th>\n",
       "    </tr>\n",
       "  </thead>\n",
       "  <tbody>\n",
       "    <tr>\n",
       "      <th>2019-01-16 14:00:00</th>\n",
       "      <td>159138</td>\n",
       "      <td>1547647200</td>\n",
       "      <td>60</td>\n",
       "      <td>176234272</td>\n",
       "      <td>218584709</td>\n",
       "      <td>282860160</td>\n",
       "      <td>2019-01-16 14:00:00</td>\n",
       "    </tr>\n",
       "    <tr>\n",
       "      <th>2019-01-16 15:00:00</th>\n",
       "      <td>159138</td>\n",
       "      <td>1547650800</td>\n",
       "      <td>60</td>\n",
       "      <td>175043128</td>\n",
       "      <td>239018429</td>\n",
       "      <td>302135312</td>\n",
       "      <td>2019-01-16 15:00:00</td>\n",
       "    </tr>\n",
       "    <tr>\n",
       "      <th>2019-01-16 16:00:00</th>\n",
       "      <td>159138</td>\n",
       "      <td>1547654400</td>\n",
       "      <td>60</td>\n",
       "      <td>192060848</td>\n",
       "      <td>247729961</td>\n",
       "      <td>455722696</td>\n",
       "      <td>2019-01-16 16:00:00</td>\n",
       "    </tr>\n",
       "    <tr>\n",
       "      <th>2019-01-16 17:00:00</th>\n",
       "      <td>159138</td>\n",
       "      <td>1547658000</td>\n",
       "      <td>60</td>\n",
       "      <td>185162976</td>\n",
       "      <td>222326142</td>\n",
       "      <td>268226440</td>\n",
       "      <td>2019-01-16 17:00:00</td>\n",
       "    </tr>\n",
       "    <tr>\n",
       "      <th>2019-01-16 18:00:00</th>\n",
       "      <td>159138</td>\n",
       "      <td>1547661600</td>\n",
       "      <td>60</td>\n",
       "      <td>169504880</td>\n",
       "      <td>220546435</td>\n",
       "      <td>306695032</td>\n",
       "      <td>2019-01-16 18:00:00</td>\n",
       "    </tr>\n",
       "  </tbody>\n",
       "</table>\n",
       "</div>"
      ],
      "text/plain": [
       "                     itemid       clock  num  value_min  value_avg  value_max  \\\n",
       "datetime                                                                        \n",
       "2019-01-16 14:00:00  159138  1547647200   60  176234272  218584709  282860160   \n",
       "2019-01-16 15:00:00  159138  1547650800   60  175043128  239018429  302135312   \n",
       "2019-01-16 16:00:00  159138  1547654400   60  192060848  247729961  455722696   \n",
       "2019-01-16 17:00:00  159138  1547658000   60  185162976  222326142  268226440   \n",
       "2019-01-16 18:00:00  159138  1547661600   60  169504880  220546435  306695032   \n",
       "\n",
       "                               datetime  \n",
       "datetime                                 \n",
       "2019-01-16 14:00:00 2019-01-16 14:00:00  \n",
       "2019-01-16 15:00:00 2019-01-16 15:00:00  \n",
       "2019-01-16 16:00:00 2019-01-16 16:00:00  \n",
       "2019-01-16 17:00:00 2019-01-16 17:00:00  \n",
       "2019-01-16 18:00:00 2019-01-16 18:00:00  "
      ]
     },
     "execution_count": 36,
     "metadata": {},
     "output_type": "execute_result"
    }
   ],
   "source": [
    "df.head()"
   ]
  },
  {
   "cell_type": "markdown",
   "id": "second-darkness",
   "metadata": {},
   "source": [
    "# Split the data"
   ]
  },
  {
   "cell_type": "code",
   "execution_count": 37,
   "id": "significant-associate",
   "metadata": {},
   "outputs": [],
   "source": [
    "train = df[df['datetime'] < '2019-06-16 00:00:00']\n",
    "test = df[df['datetime'] > '2019-06-16 00:00:00']\n",
    "train_length = train.shape[0]\n",
    "test_length = test.shape[0]"
   ]
  },
  {
   "cell_type": "code",
   "execution_count": 38,
   "id": "applied-marijuana",
   "metadata": {},
   "outputs": [
    {
     "name": "stdout",
     "output_type": "stream",
     "text": [
      "Training size:  3610\n",
      "Test size:  708\n"
     ]
    }
   ],
   "source": [
    "print('Training size: ', train_length)\n",
    "print('Test size: ', test_length)"
   ]
  },
  {
   "cell_type": "code",
   "execution_count": 39,
   "id": "abroad-produce",
   "metadata": {},
   "outputs": [
    {
     "name": "stdout",
     "output_type": "stream",
     "text": [
      "Test ratio:  0.16396479851783233\n"
     ]
    }
   ],
   "source": [
    "print('Test ratio: ', test_length / (test_length + train_length))"
   ]
  },
  {
   "cell_type": "markdown",
   "id": "significant-framework",
   "metadata": {},
   "source": [
    "We plot the different time periods data:"
   ]
  },
  {
   "cell_type": "code",
   "execution_count": 40,
   "id": "talented-matrix",
   "metadata": {},
   "outputs": [
    {
     "data": {
      "image/png": "[encoded data removed]",
      "text/plain": [
       "<Figure size 864x432 with 1 Axes>"
      ]
     },
     "metadata": {
      "needs_background": "light"
     },
     "output_type": "display_data"
    }
   ],
   "source": [
    "plt.figure(figsize=[12, 6])\n",
    "plt.plot(df.index[:train_length], df['value_avg'][:train_length] / 1000 / 1000, label='Training', color='blue')\n",
    "plt.plot(df.index[train_length:], df['value_avg'][train_length:] / 1000 / 1000, label='Test', color='red')\n",
    "# Not supported for eps\n",
    "plt.axvspan(df.index[train_length:][0], df.index[train_length:][-1],  facecolor='r', alpha=0.1)\n",
    "\n",
    "plt.xlabel('Time')\n",
    "plt.ylabel('Traffic (Mbps)')\n",
    "plt.legend(loc='best')\n",
    "# plt.show()\n",
    "plt.savefig('fig1.pdf', bbox_inches = 'tight', pad_inches = 0.1)"
   ]
  },
  {
   "cell_type": "markdown",
   "id": "loved-state",
   "metadata": {},
   "source": [
    "# Plot predicted results"
   ]
  },
  {
   "cell_type": "markdown",
   "id": "photographic-passion",
   "metadata": {},
   "source": [
    "Get the true values on the test set first:"
   ]
  },
  {
   "cell_type": "code",
   "execution_count": 45,
   "id": "interstate-armenia",
   "metadata": {},
   "outputs": [],
   "source": [
    "compare_test = test[['value_avg']].copy()\n",
    "compare_test.columns = ['True Values']"
   ]
  },
  {
   "cell_type": "markdown",
   "id": "viral-remainder",
   "metadata": {},
   "source": [
    "Load the results of VAR:"
   ]
  },
  {
   "cell_type": "code",
   "execution_count": 43,
   "id": "veterinary-relay",
   "metadata": {},
   "outputs": [],
   "source": [
    "model_name = 'VAR'\n",
    "history = 24\n",
    "horizon = 1\n",
    "y_pred_fn = '%s_pred-%d-%d.pkl' % (model_name, history, horizon)\n",
    "var_pred = pickle.load(open(y_pred_fn, 'rb'))"
   ]
  },
  {
   "cell_type": "code",
   "execution_count": 46,
   "id": "corrected-torture",
   "metadata": {},
   "outputs": [],
   "source": [
    "compare_test['VAR'] = var_pred"
   ]
  },
  {
   "cell_type": "code",
   "execution_count": 47,
   "id": "prerequisite-infrastructure",
   "metadata": {},
   "outputs": [
    {
     "data": {
      "text/html": [
       "<div>\n",
       "<style scoped>\n",
       "    .dataframe tbody tr th:only-of-type {\n",
       "        vertical-align: middle;\n",
       "    }\n",
       "\n",
       "    .dataframe tbody tr th {\n",
       "        vertical-align: top;\n",
       "    }\n",
       "\n",
       "    .dataframe thead th {\n",
       "        text-align: right;\n",
       "    }\n",
       "</style>\n",
       "<table border=\"1\" class=\"dataframe\">\n",
       "  <thead>\n",
       "    <tr style=\"text-align: right;\">\n",
       "      <th></th>\n",
       "      <th>True Values</th>\n",
       "      <th>VAR</th>\n",
       "    </tr>\n",
       "    <tr>\n",
       "      <th>datetime</th>\n",
       "      <th></th>\n",
       "      <th></th>\n",
       "    </tr>\n",
       "  </thead>\n",
       "  <tbody>\n",
       "    <tr>\n",
       "      <th>2019-06-16 01:00:00</th>\n",
       "      <td>9214183</td>\n",
       "      <td>9.496324e+06</td>\n",
       "    </tr>\n",
       "    <tr>\n",
       "      <th>2019-06-16 02:00:00</th>\n",
       "      <td>4572265</td>\n",
       "      <td>1.533598e+07</td>\n",
       "    </tr>\n",
       "    <tr>\n",
       "      <th>2019-06-16 03:00:00</th>\n",
       "      <td>2757564</td>\n",
       "      <td>9.956290e+06</td>\n",
       "    </tr>\n",
       "    <tr>\n",
       "      <th>2019-06-16 04:00:00</th>\n",
       "      <td>1749366</td>\n",
       "      <td>8.633895e+06</td>\n",
       "    </tr>\n",
       "    <tr>\n",
       "      <th>2019-06-16 05:00:00</th>\n",
       "      <td>937389</td>\n",
       "      <td>5.855331e+06</td>\n",
       "    </tr>\n",
       "  </tbody>\n",
       "</table>\n",
       "</div>"
      ],
      "text/plain": [
       "                     True Values           VAR\n",
       "datetime                                      \n",
       "2019-06-16 01:00:00      9214183  9.496324e+06\n",
       "2019-06-16 02:00:00      4572265  1.533598e+07\n",
       "2019-06-16 03:00:00      2757564  9.956290e+06\n",
       "2019-06-16 04:00:00      1749366  8.633895e+06\n",
       "2019-06-16 05:00:00       937389  5.855331e+06"
      ]
     },
     "execution_count": 47,
     "metadata": {},
     "output_type": "execute_result"
    }
   ],
   "source": [
    "compare_test.head()"
   ]
  },
  {
   "cell_type": "markdown",
   "id": "advised-equation",
   "metadata": {},
   "source": [
    "Define a function to load the results of a single deep learning model:"
   ]
  },
  {
   "cell_type": "code",
   "execution_count": 53,
   "id": "favorite-continuity",
   "metadata": {},
   "outputs": [],
   "source": [
    "def load_predicted_results(model_name, history=24, horizon=1, step_to_evalute=0):\n",
    "    y_pred_fn = '%s_pred-%d-%d.pkl' % (model_name, history, horizon)\n",
    "    y_pred = pickle.load(open(y_pred_fn, 'rb'))\n",
    "    return y_pred[:, step_to_evalute]"
   ]
  },
  {
   "cell_type": "markdown",
   "id": "metallic-commons",
   "metadata": {},
   "source": [
    "Load the results of InceptionTime for comparison:"
   ]
  },
  {
   "cell_type": "code",
   "execution_count": 54,
   "id": "mineral-fundamentals",
   "metadata": {},
   "outputs": [],
   "source": [
    "compare_test['InceptionTime'] = load_predicted_results('InceptionTime')"
   ]
  },
  {
   "cell_type": "code",
   "execution_count": 55,
   "id": "charitable-senate",
   "metadata": {},
   "outputs": [
    {
     "data": {
      "text/html": [
       "<div>\n",
       "<style scoped>\n",
       "    .dataframe tbody tr th:only-of-type {\n",
       "        vertical-align: middle;\n",
       "    }\n",
       "\n",
       "    .dataframe tbody tr th {\n",
       "        vertical-align: top;\n",
       "    }\n",
       "\n",
       "    .dataframe thead th {\n",
       "        text-align: right;\n",
       "    }\n",
       "</style>\n",
       "<table border=\"1\" class=\"dataframe\">\n",
       "  <thead>\n",
       "    <tr style=\"text-align: right;\">\n",
       "      <th></th>\n",
       "      <th>True Values</th>\n",
       "      <th>VAR</th>\n",
       "      <th>InceptionTime</th>\n",
       "    </tr>\n",
       "    <tr>\n",
       "      <th>datetime</th>\n",
       "      <th></th>\n",
       "      <th></th>\n",
       "      <th></th>\n",
       "    </tr>\n",
       "  </thead>\n",
       "  <tbody>\n",
       "    <tr>\n",
       "      <th>2019-06-16 01:00:00</th>\n",
       "      <td>9214183</td>\n",
       "      <td>9.496324e+06</td>\n",
       "      <td>3.707059e+06</td>\n",
       "    </tr>\n",
       "    <tr>\n",
       "      <th>2019-06-16 02:00:00</th>\n",
       "      <td>4572265</td>\n",
       "      <td>1.533598e+07</td>\n",
       "      <td>4.951978e+06</td>\n",
       "    </tr>\n",
       "    <tr>\n",
       "      <th>2019-06-16 03:00:00</th>\n",
       "      <td>2757564</td>\n",
       "      <td>9.956290e+06</td>\n",
       "      <td>3.291661e+06</td>\n",
       "    </tr>\n",
       "    <tr>\n",
       "      <th>2019-06-16 04:00:00</th>\n",
       "      <td>1749366</td>\n",
       "      <td>8.633895e+06</td>\n",
       "      <td>2.616202e+06</td>\n",
       "    </tr>\n",
       "    <tr>\n",
       "      <th>2019-06-16 05:00:00</th>\n",
       "      <td>937389</td>\n",
       "      <td>5.855331e+06</td>\n",
       "      <td>2.426188e+06</td>\n",
       "    </tr>\n",
       "  </tbody>\n",
       "</table>\n",
       "</div>"
      ],
      "text/plain": [
       "                     True Values           VAR  InceptionTime\n",
       "datetime                                                     \n",
       "2019-06-16 01:00:00      9214183  9.496324e+06   3.707059e+06\n",
       "2019-06-16 02:00:00      4572265  1.533598e+07   4.951978e+06\n",
       "2019-06-16 03:00:00      2757564  9.956290e+06   3.291661e+06\n",
       "2019-06-16 04:00:00      1749366  8.633895e+06   2.616202e+06\n",
       "2019-06-16 05:00:00       937389  5.855331e+06   2.426188e+06"
      ]
     },
     "execution_count": 55,
     "metadata": {},
     "output_type": "execute_result"
    }
   ],
   "source": [
    "compare_test.head()"
   ]
  },
  {
   "cell_type": "markdown",
   "id": "based-theory",
   "metadata": {},
   "source": [
    "Plot the results for a short time period:"
   ]
  },
  {
   "cell_type": "code",
   "execution_count": 61,
   "id": "elegant-valuation",
   "metadata": {},
   "outputs": [],
   "source": [
    "df = compare_test.head(24 * 7)  # the first hours in the test set"
   ]
  },
  {
   "cell_type": "code",
   "execution_count": 64,
   "id": "interesting-wilson",
   "metadata": {},
   "outputs": [
    {
     "data": {
      "image/png": "[encoded data removed]",
      "text/plain": [
       "<Figure size 864x432 with 1 Axes>"
      ]
     },
     "metadata": {
      "needs_background": "light"
     },
     "output_type": "display_data"
    }
   ],
   "source": [
    "plt.figure(figsize=[12, 6])\n",
    "plt.plot(df.index, df['True Values'] / 1000 / 1000, 'b', label='True Values')\n",
    "plt.plot(df.index, df['VAR'] / 1000 / 1000, 'y', label='VAR')\n",
    "plt.plot(df.index, df['InceptionTime'] / 1000 / 1000, 'r', label='InceptionTime')\n",
    "plt.xlabel('Time')\n",
    "plt.ylabel('Traffic (Mbps)')\n",
    "plt.legend()\n",
    "# plt.show()\n",
    "plt.savefig('fig2.pdf', bbox_inches = 'tight', pad_inches = 0.1)"
   ]
  }
 ],
 "metadata": {
  "kernelspec": {
   "display_name": "Python 3",
   "language": "python",
   "name": "python3"
  },
  "language_info": {
   "codemirror_mode": {
    "name": "ipython",
    "version": 3
   },
   "file_extension": ".py",
   "mimetype": "text/x-python",
   "name": "python",
   "nbconvert_exporter": "python",
   "pygments_lexer": "ipython3",
   "version": "3.7.9"
  }
 },
 "nbformat": 4,
 "nbformat_minor": 5
}
